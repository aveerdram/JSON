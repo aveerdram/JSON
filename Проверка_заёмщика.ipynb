{
  "nbformat": 4,
  "nbformat_minor": 0,
  "metadata": {
    "colab": {
      "provenance": [],
      "authorship_tag": "ABX9TyN4LfEh/XHZV7MCNKhEQMrY",
      "include_colab_link": true
    },
    "kernelspec": {
      "name": "python3",
      "display_name": "Python 3"
    },
    "language_info": {
      "name": "python"
    }
  },
  "cells": [
    {
      "cell_type": "markdown",
      "metadata": {
        "id": "view-in-github",
        "colab_type": "text"
      },
      "source": [
        "<a href=\"https://colab.research.google.com/github/aveerdram/JSON/blob/main/%D0%9F%D1%80%D0%BE%D0%B2%D0%B5%D1%80%D0%BA%D0%B0_%D0%B7%D0%B0%D1%91%D0%BC%D1%89%D0%B8%D0%BA%D0%B0.ipynb\" target=\"_parent\"><img src=\"https://colab.research.google.com/assets/colab-badge.svg\" alt=\"Open In Colab\"/></a>"
      ]
    },
    {
      "cell_type": "markdown",
      "source": [
        "Перед оформлением заявки на получение кредита потенциальный заемщик\n",
        "проходит ряд автоматических стоп-проверок. Если хотя бы одну из этих\n",
        "проверок клиент не прошел, то банк вправе отказать ему в выдаче кредита. Ниже\n",
        "представлены три проверки, которые требуется реализовать:"
      ],
      "metadata": {
        "id": "AXmpiZaSkB0o"
      }
    },
    {
      "cell_type": "markdown",
      "source": [
        "**Проверка 1. Минимальный возраст.**\n",
        "\n",
        "Если клиент моложе 20 лет – отказ"
      ],
      "metadata": {
        "id": "tX45TzqYNQcY"
      }
    },
    {
      "cell_type": "markdown",
      "source": [
        "**Проверка 2. Проверка действительности паспорта.**\n",
        "\n",
        "Если возраст клиента более 20 лет и дата выдачи паспорта ранее, чем дата\n",
        "достижения им возраста 20 лет, либо если возраст клиента более 45 лет и дата\n",
        "выдачи паспорта ранее, чем дата достижения им возраста 45 лет - отказ.\n"
      ],
      "metadata": {
        "id": "hZ7BHkd7O4U_"
      }
    },
    {
      "cell_type": "markdown",
      "source": [
        "**Проверка 3. Проверка кредитной истории.**\n",
        "\n",
        "Наличие в кредитной истории в Банке хотя бы одного из условий приводит к\n",
        "отказу.\n",
        "Если тип кредита не «Кредитная карта», то проверяется:\n",
        "1. Имеется непогашенная просроченная задолженность.\n",
        "2. Возникала просроченная задолженность протяженностью более 60 дней.\n",
        "3. Есть больше двух кредитов с просроченной задолженностью\n",
        "протяженностью более 15 дней.\n",
        "\n",
        "Если тип кредита «Кредитная карта», то проверяется:\n",
        "1. Имеется непогашенная просроченная задолженность.\n",
        "2. Возникала просроченная задолженность протяженностью более 30 дней."
      ],
      "metadata": {
        "id": "Y9kxbxS7YfsT"
      }
    },
    {
      "cell_type": "markdown",
      "source": [
        "# Тестовый файл"
      ],
      "metadata": {
        "id": "MaEQgViwkOmv"
      }
    },
    {
      "cell_type": "code",
      "source": [
        "with open('test.json', 'w') as in_file:\n",
        "  in_file.write(\n",
        "'''{\n",
        "  \"firstName\": \"Иван\",\n",
        "  \"middleName\": \"Иванович\",\n",
        "  \"lastName\": \"Иванов\",\n",
        "  \"birthDate\": \"1969-12-31T21:00:00.000Z\",\n",
        "  \"citizenship\": \"РФ\",\n",
        "  \"passport\": {\n",
        "    \"series\": \"12 34\",\n",
        "    \"number\": \"123456\",\n",
        "    \"issuedAt\": \"2023-03-11T21:00:00.000Z\",\n",
        "    \"issuer\": \"УФМС\",\n",
        "    \"issuerСode\": \"123-456\"\n",
        "  },\n",
        "  \"creditHistory\": [\n",
        "    {\n",
        "      \"type\": \"Кредит наличными\",\n",
        "      \"currency\": \"RUB\",\n",
        "      \"issuedAt\": \"2003-02-27T21:00:00.000Z\",\n",
        "      \"rate\": 0.13,\n",
        "      \"loanSum\": 100000,\n",
        "      \"term\": 12,\n",
        "      \"repaidAt\": \"2004-02-27T21:00:00.000Z\",\n",
        "      \"currentOverdueDebt\": 0,\n",
        "      \"numberOfDaysOnOverdue\": 0,\n",
        "      \"remainingDebt\": 0,\n",
        "      \"creditId\": \"25e8a350-fbbc-11ee-a951-0242ac120002\"\n",
        "    },\n",
        "    {\n",
        "      \"type\": \"Кредитная карта\",\n",
        "      \"currency\": \"RUB\",\n",
        "      \"issuedAt\": \"2009-03-27T21:00:00.000Z\",\n",
        "      \"rate\": 0.24,\n",
        "      \"loanSum\": 30000,\n",
        "      \"term\": 3,\n",
        "      \"repaidAt\": \"2009-06-29T20:00:00.000Z\",\n",
        "      \"currentOverdueDebt\": 0,\n",
        "      \"numberOfDaysOnOverdue\": 2,\n",
        "      \"remainingDebt\": 0,\n",
        "      \"creditId\": \"81fb1ff6-fbbc-11ee-a951-0242ac120002\"\n",
        "    },\n",
        "    {\n",
        "      \"type\": \"Кредит наличными\",\n",
        "      \"currency\": \"RUB\",\n",
        "      \"issuedAt\": \"2009-02-27T21:00:00.000Z\",\n",
        "      \"rate\": 0.09,\n",
        "      \"loanSum\": 200000,\n",
        "      \"term\": 24,\n",
        "      \"repaidAt\": \"2011-03-02T21:00:00.000Z\",\n",
        "      \"currentOverdueDebt\": 0,\n",
        "      \"numberOfDaysOnOverdue\": 14,\n",
        "      \"remainingDebt\": 0,\n",
        "      \"creditId\": \"c384eea2-fbbc-11ee-a951-0242ac120002\"\n",
        "    },\n",
        "    {\n",
        "      \"type\": \"Кредитная наличными\",\n",
        "      \"currency\": \"RUB\",\n",
        "      \"issuedAt\": \"2024-05-15T21:00:00.000Z\",\n",
        "      \"rate\": 0.13,\n",
        "      \"loanSum\": 200000,\n",
        "      \"term\": 36,\n",
        "      \"repaidAt\": null,\n",
        "      \"currentOverdueDebt\": 10379,\n",
        "      \"numberOfDaysOnOverdue\": 15,\n",
        "      \"remainingDebt\": 110000,\n",
        "      \"creditId\": \"ebeddfde-fbbc-11ee-a951-0242ac120002\"\n",
        "    }\n",
        "  ]\n",
        "}\n",
        "''')"
      ],
      "metadata": {
        "id": "VJQA473_kSQO"
      },
      "execution_count": null,
      "outputs": []
    },
    {
      "cell_type": "markdown",
      "source": [
        "# **Функция**"
      ],
      "metadata": {
        "id": "iJUWwEPdPjCu"
      }
    },
    {
      "cell_type": "code",
      "source": [
        "import json\n",
        "from datetime import datetime\n",
        "\n",
        "def check_client(json_data):\n",
        "  \"\"\"\n",
        "  Функция для проверки клиента на соответствие стоп-критериям.\n",
        "\n",
        "  Args:\n",
        "      json_data: JSON-данные о клиенте и его кредитной истории.\n",
        "\n",
        "  Returns:\n",
        "      True, если клиент прошел все проверки, False в противном случае.\n",
        "  \"\"\"\n",
        "\n",
        "  def str_to_datetime(date_str):\n",
        "    return datetime.strptime(date_str, \"%Y-%m-%dT%H:%M:%S.%fZ\")\n",
        "\n",
        "  with open(json_data, 'r') as fcc_file:\n",
        "    client_data = json.load(fcc_file)\n",
        "\n",
        "    # Проверка 1: Минимальный возраст\n",
        "    age = datetime.today().year - int(client_data.get('birthDate')[:4])\n",
        "    if age < 20:\n",
        "      return False\n",
        "\n",
        "    # Проверка 2: Проверка действительности паспорта\n",
        "\n",
        "    passport = client_data.get('passport')\n",
        "    issue_date = str_to_datetime(passport.get('issuedAt'))\n",
        "    birth_date = str_to_datetime(client_data.get('birthDate'))\n",
        "\n",
        "    if age > 45:\n",
        "      date45 = birth_date.replace(year=birth_date.year + 45)\n",
        "      d = date45 - issue_date\n",
        "      if d.days > 0:\n",
        "        return False\n",
        "    elif age > 20:\n",
        "      date20 = birth_date.replace(year=birth_date.year + 20)\n",
        "      d = date20 - issue_date\n",
        "      if d.days > 0:\n",
        "        return False\n",
        "    else:\n",
        "        return False\n",
        "\n",
        "    # Проверка 3: Проверка кредитной истории\n",
        "    credit_list = client_data.get('creditHistory')\n",
        "    flag = -2\n",
        "\n",
        "    for credit in credit_list:\n",
        "      if credit.get('type') == 'Кредитная карта':\n",
        "        if credit.get('currentOverdueDebt') != 0 or credit.get('numberOfDaysOnOverdue') > 30:\n",
        "          return False\n",
        "    else:\n",
        "      if credit.get('numberOfDaysOnOverdue') > 15:\n",
        "        flag += 1\n",
        "      if credit.get('currentOverdueDebt') != 0 or credit.get('numberOfDaysOnOverdue') > 60 or flag >= 0:\n",
        "        return False\n",
        "\n",
        "    return True"
      ],
      "metadata": {
        "id": "luhN9IiiNOTX"
      },
      "execution_count": null,
      "outputs": []
    },
    {
      "cell_type": "code",
      "source": [
        "check_client('test.json')"
      ],
      "metadata": {
        "colab": {
          "base_uri": "https://localhost:8080/"
        },
        "id": "w3vKeTWXkni3",
        "outputId": "f1f8cb5b-0243-4cf6-ce90-92b8db925549"
      },
      "execution_count": null,
      "outputs": [
        {
          "output_type": "execute_result",
          "data": {
            "text/plain": [
              "False"
            ]
          },
          "metadata": {},
          "execution_count": 142
        }
      ]
    }
  ]
}